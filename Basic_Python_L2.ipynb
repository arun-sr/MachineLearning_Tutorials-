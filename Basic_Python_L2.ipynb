{
  "nbformat": 4,
  "nbformat_minor": 0,
  "metadata": {
    "colab": {
      "name": "ArunSR_Python-Level-2.ipynb",
      "provenance": [],
      "collapsed_sections": [
        "NsgcTLTit-aQ",
        "D1JWk8L_uE0q",
        "m5b1j52xuWjY"
      ],
      "include_colab_link": true
    },
    "kernelspec": {
      "display_name": "Python [default]",
      "language": "python",
      "name": "python3"
    }
  },
  "cells": [
    {
      "cell_type": "markdown",
      "metadata": {
        "id": "view-in-github",
        "colab_type": "text"
      },
      "source": [
        "<a href=\"https://colab.research.google.com/github/arun-sr/MachineLearning_Tutorials-/blob/master/Basic_Python_L2.ipynb\" target=\"_parent\"><img src=\"https://colab.research.google.com/assets/colab-badge.svg\" alt=\"Open In Colab\"/></a>"
      ]
    },
    {
      "cell_type": "markdown",
      "metadata": {
        "colab_type": "text",
        "id": "6FAoMT3WsfLc"
      },
      "source": [
        "# Python Classes/Objects\n",
        "\n",
        "Python is an object oriented programming language.\n",
        "Almost everything in Python is an object, with its properties and methods.\n",
        "A Class is like an object constructor, or a \"blueprint\" for creating objects.\n",
        "To create a class, use the keyword class:"
      ]
    },
    {
      "cell_type": "code",
      "metadata": {
        "colab_type": "code",
        "id": "OTK9TBJEs8Cv",
        "colab": {}
      },
      "source": [
        "# Define a class MyClass here with a variable x =5."
      ],
      "execution_count": 0,
      "outputs": []
    },
    {
      "cell_type": "code",
      "metadata": {
        "id": "hkgb-ZnCnHjl",
        "colab_type": "code",
        "outputId": "7d5fb1b3-282c-4986-a235-efc4cfc6eb33",
        "colab": {
          "base_uri": "https://localhost:8080/",
          "height": 544
        }
      },
      "source": [
        "getbin = lambda x: format(x,'b')\n",
        "\n",
        "def print_formatted(number):\n",
        "    # your code goes here\n",
        "    n = input()\n",
        "    for i in range(int(n)):\n",
        "        print(\"{0} {1:o} {2:X} {3:b}\".format(i,i,i,i))\n",
        "\n",
        "print_formatted(2)        \n",
        "          \n",
        "          "
      ],
      "execution_count": 0,
      "outputs": [
        {
          "output_type": "stream",
          "text": [
            "30\n",
            "0 0 0 0\n",
            "1 1 1 1\n",
            "2 2 2 10\n",
            "3 3 3 11\n",
            "4 4 4 100\n",
            "5 5 5 101\n",
            "6 6 6 110\n",
            "7 7 7 111\n",
            "8 10 8 1000\n",
            "9 11 9 1001\n",
            "10 12 A 1010\n",
            "11 13 B 1011\n",
            "12 14 C 1100\n",
            "13 15 D 1101\n",
            "14 16 E 1110\n",
            "15 17 F 1111\n",
            "16 20 10 10000\n",
            "17 21 11 10001\n",
            "18 22 12 10010\n",
            "19 23 13 10011\n",
            "20 24 14 10100\n",
            "21 25 15 10101\n",
            "22 26 16 10110\n",
            "23 27 17 10111\n",
            "24 30 18 11000\n",
            "25 31 19 11001\n",
            "26 32 1A 11010\n",
            "27 33 1B 11011\n",
            "28 34 1C 11100\n",
            "29 35 1D 11101\n"
          ],
          "name": "stdout"
        }
      ]
    },
    {
      "cell_type": "markdown",
      "metadata": {
        "colab_type": "text",
        "id": "ESdcYVx_tEV5"
      },
      "source": [
        "Now we can use the class named myClass to create objects:\n",
        "\n"
      ]
    },
    {
      "cell_type": "code",
      "metadata": {
        "colab_type": "code",
        "id": "nOsYjst6tHsD",
        "outputId": "d90be66a-d835-46ed-9159-9999394f25ce",
        "colab": {
          "base_uri": "https://localhost:8080/",
          "height": 34
        }
      },
      "source": [
        "# to Create an object named p1, and print the value of x:\n",
        "class MyClass:\n",
        "  x = 5;\n",
        "  \n",
        "p1 = MyClass()\n",
        "print(p1.x)  "
      ],
      "execution_count": 0,
      "outputs": [
        {
          "output_type": "stream",
          "text": [
            "5\n"
          ],
          "name": "stdout"
        }
      ]
    },
    {
      "cell_type": "markdown",
      "metadata": {
        "colab_type": "text",
        "id": "umemrAXNtR5u"
      },
      "source": [
        "##The __init__() Function\n",
        "The examples above are classes and objects in their simplest form, and are not really useful in real life applications.\n",
        "To understand the meaning of classes we have to understand the built-in __init__() function.\n",
        "All classes have a function called __init__(), which is always executed when the class is being initiated.\n",
        "Use the __init__() function to assign values to object properties, or other operations that are necessary to do when the object is being created:"
      ]
    },
    {
      "cell_type": "code",
      "metadata": {
        "colab_type": "code",
        "id": "V67T5O2utezg",
        "outputId": "4e9f32e6-3bbf-4f25-c3f8-8352c09655f7",
        "colab": {
          "base_uri": "https://localhost:8080/",
          "height": 51
        }
      },
      "source": [
        "#Here we can create a class named Person, use the __init__() function to assign values for name and age:\n",
        "\n",
        "#The __init__() function is called automatically every time the class is being used to create a new object.\n",
        "\n",
        "class Person:\n",
        "  def __init__(self, name,age):\n",
        "    self.name = name\n",
        "    self.age = age\n",
        "  \n",
        "p1 = Person(\"john\", 67)\n",
        "print(p1.name)\n",
        "print(p1.age)"
      ],
      "execution_count": 0,
      "outputs": [
        {
          "output_type": "stream",
          "text": [
            "john\n",
            "67\n"
          ],
          "name": "stdout"
        }
      ]
    },
    {
      "cell_type": "markdown",
      "metadata": {
        "colab_type": "text",
        "id": "s8MffRd0tsQn"
      },
      "source": [
        "## Object Methods\n",
        "Objects can also contain methods. Methods in objects are functions that belongs to the object.\n",
        "\n",
        "Let's  create a method in the Person class:"
      ]
    },
    {
      "cell_type": "code",
      "metadata": {
        "colab_type": "code",
        "id": "6lxFwYoutxb7",
        "outputId": "31d33bd7-18f9-4ade-96d7-56c9787b266c",
        "colab": {
          "base_uri": "https://localhost:8080/",
          "height": 34
        }
      },
      "source": [
        "# Here we will insert a function that prints a greeting, and execute it on the p1 object:\n",
        "\n",
        "class Person:\n",
        "  def __init__(self, name,age):\n",
        "    self.name = name\n",
        "    self.age = age\n",
        "  def printmsg(self):\n",
        "    print(\"Hello my name is \" + self.name);\n",
        "    \n",
        "p1 = Person(\"john\", 67);\n",
        "p1.printmsg();\n",
        "\n",
        "    "
      ],
      "execution_count": 0,
      "outputs": [
        {
          "output_type": "stream",
          "text": [
            "Hello my name is john\n"
          ],
          "name": "stdout"
        }
      ]
    },
    {
      "cell_type": "markdown",
      "metadata": {
        "colab_type": "text",
        "id": "lpcmX4sYt6ho"
      },
      "source": [
        "* The self parameter is a reference to the class instance itself, and is used to access variables that belongs to the class."
      ]
    },
    {
      "cell_type": "markdown",
      "metadata": {
        "colab_type": "text",
        "id": "r9MbbeH3uAC5"
      },
      "source": [
        "## The self Parameter\n",
        "The self parameter is a reference to the class itself, and is used to access variables that belongs to the class.\n",
        "\n",
        "It does not have to be named self , you can call it whatever you like, but it has to be the first parameter of any function in the class:"
      ]
    },
    {
      "cell_type": "code",
      "metadata": {
        "colab_type": "code",
        "id": "-J7dcpQkuF7Z",
        "outputId": "f0cf181b-b1a7-4bf0-dc28-012918305ae0",
        "colab": {
          "base_uri": "https://localhost:8080/",
          "height": 34
        }
      },
      "source": [
        "#Use the words mysillyobject and abc instead of self:\n",
        "\n",
        "class Person():\n",
        "  def __init__(mysillyobject, name,age):\n",
        "    mysillyobject.name = name\n",
        "    mysillyobject.age = age\n",
        "  def printmsg(abc):\n",
        "    print(\"Hello my name is \" + abc.name);\n",
        "    \n",
        "p1 = Person(\"john\", 67);\n",
        "p1.printmsg();"
      ],
      "execution_count": 0,
      "outputs": [
        {
          "output_type": "stream",
          "text": [
            "Hello my name is john\n"
          ],
          "name": "stdout"
        }
      ]
    },
    {
      "cell_type": "markdown",
      "metadata": {
        "colab_type": "text",
        "id": "IiFBCJBEuMB_"
      },
      "source": [
        "### Modify Object Properties\n",
        "You can modify properties on objects like this:"
      ]
    },
    {
      "cell_type": "code",
      "metadata": {
        "colab_type": "code",
        "id": "WY6Jv0mmuSQJ",
        "outputId": "cf1ccc5d-8c02-4f62-9580-bab6a0979a72",
        "colab": {
          "base_uri": "https://localhost:8080/",
          "height": 34
        }
      },
      "source": [
        "#Set the age of p1 to 40:\n",
        "class Person():\n",
        "  def __init__(mysillyobject, name,age):\n",
        "    mysillyobject.name = name\n",
        "    mysillyobject.age = age\n",
        "  def printmsg(abc):\n",
        "    print(\"Hello my name is \" + abc.name);\n",
        "    \n",
        "p1 = Person(\"john\", 67);\n",
        "p1.name = \"asdas\";\n",
        "p1.printmsg();"
      ],
      "execution_count": 0,
      "outputs": [
        {
          "output_type": "stream",
          "text": [
            "Hello my name is asdas\n"
          ],
          "name": "stdout"
        }
      ]
    },
    {
      "cell_type": "markdown",
      "metadata": {
        "colab_type": "text",
        "id": "DNJQsrkUuWEx"
      },
      "source": [
        "## Delete Object Properties\n",
        "You can delete properties on objects by using the del keyword:"
      ]
    },
    {
      "cell_type": "code",
      "metadata": {
        "colab_type": "code",
        "id": "zG8K80ReueDU",
        "outputId": "955b9d65-60f2-469a-832e-b9eb5a5f2714",
        "colab": {
          "base_uri": "https://localhost:8080/",
          "height": 316
        }
      },
      "source": [
        "#Delete the age property from the p1 object using the del keyword:\n",
        "class Person():\n",
        "  def __init__(mysillyobject, name,age):\n",
        "    mysillyobject.name = name\n",
        "    mysillyobject.age = age\n",
        "  def printmsg(abc):\n",
        "    print(\"Hello my name is \" + abc.name);\n",
        "    \n",
        "p1 = Person(\"john\", 67);\n",
        "del(p1.name);\n",
        "p1.printmsg();"
      ],
      "execution_count": 0,
      "outputs": [
        {
          "output_type": "error",
          "ename": "AttributeError",
          "evalue": "ignored",
          "traceback": [
            "\u001b[0;31m---------------------------------------------------------------------------\u001b[0m",
            "\u001b[0;31mAttributeError\u001b[0m                            Traceback (most recent call last)",
            "\u001b[0;32m<ipython-input-33-a62952f5861a>\u001b[0m in \u001b[0;36m<module>\u001b[0;34m()\u001b[0m\n\u001b[1;32m      8\u001b[0m \u001b[0mp1\u001b[0m \u001b[0;34m=\u001b[0m \u001b[0mPerson\u001b[0m\u001b[0;34m(\u001b[0m\u001b[0;34m\"john\"\u001b[0m\u001b[0;34m,\u001b[0m \u001b[0;36m67\u001b[0m\u001b[0;34m)\u001b[0m\u001b[0;34m;\u001b[0m\u001b[0;34m\u001b[0m\u001b[0;34m\u001b[0m\u001b[0m\n\u001b[1;32m      9\u001b[0m \u001b[0;32mdel\u001b[0m\u001b[0;34m(\u001b[0m\u001b[0mp1\u001b[0m\u001b[0;34m.\u001b[0m\u001b[0mname\u001b[0m\u001b[0;34m)\u001b[0m\u001b[0;34m;\u001b[0m\u001b[0;34m\u001b[0m\u001b[0;34m\u001b[0m\u001b[0m\n\u001b[0;32m---> 10\u001b[0;31m \u001b[0mp1\u001b[0m\u001b[0;34m.\u001b[0m\u001b[0mprintmsg\u001b[0m\u001b[0;34m(\u001b[0m\u001b[0;34m)\u001b[0m\u001b[0;34m;\u001b[0m\u001b[0;34m\u001b[0m\u001b[0;34m\u001b[0m\u001b[0m\n\u001b[0m",
            "\u001b[0;32m<ipython-input-33-a62952f5861a>\u001b[0m in \u001b[0;36mprintmsg\u001b[0;34m(abc)\u001b[0m\n\u001b[1;32m      4\u001b[0m     \u001b[0mmysillyobject\u001b[0m\u001b[0;34m.\u001b[0m\u001b[0mage\u001b[0m \u001b[0;34m=\u001b[0m \u001b[0mage\u001b[0m\u001b[0;34m\u001b[0m\u001b[0;34m\u001b[0m\u001b[0m\n\u001b[1;32m      5\u001b[0m   \u001b[0;32mdef\u001b[0m \u001b[0mprintmsg\u001b[0m\u001b[0;34m(\u001b[0m\u001b[0mabc\u001b[0m\u001b[0;34m)\u001b[0m\u001b[0;34m:\u001b[0m\u001b[0;34m\u001b[0m\u001b[0;34m\u001b[0m\u001b[0m\n\u001b[0;32m----> 6\u001b[0;31m     \u001b[0mprint\u001b[0m\u001b[0;34m(\u001b[0m\u001b[0;34m\"Hello my name is \"\u001b[0m \u001b[0;34m+\u001b[0m \u001b[0mabc\u001b[0m\u001b[0;34m.\u001b[0m\u001b[0mname\u001b[0m\u001b[0;34m)\u001b[0m\u001b[0;34m;\u001b[0m\u001b[0;34m\u001b[0m\u001b[0;34m\u001b[0m\u001b[0m\n\u001b[0m\u001b[1;32m      7\u001b[0m \u001b[0;34m\u001b[0m\u001b[0m\n\u001b[1;32m      8\u001b[0m \u001b[0mp1\u001b[0m \u001b[0;34m=\u001b[0m \u001b[0mPerson\u001b[0m\u001b[0;34m(\u001b[0m\u001b[0;34m\"john\"\u001b[0m\u001b[0;34m,\u001b[0m \u001b[0;36m67\u001b[0m\u001b[0;34m)\u001b[0m\u001b[0;34m;\u001b[0m\u001b[0;34m\u001b[0m\u001b[0;34m\u001b[0m\u001b[0m\n",
            "\u001b[0;31mAttributeError\u001b[0m: 'Person' object has no attribute 'name'"
          ]
        }
      ]
    },
    {
      "cell_type": "markdown",
      "metadata": {
        "colab_type": "text",
        "id": "_Avg_AF3uj2z"
      },
      "source": [
        "## Delete Objects\n",
        "You can delete objects by using the del keyword:"
      ]
    },
    {
      "cell_type": "code",
      "metadata": {
        "colab_type": "code",
        "id": "dXccHuLxuku2",
        "outputId": "d95d00ee-aac8-47bd-df72-005de62a7395",
        "colab": {
          "base_uri": "https://localhost:8080/",
          "height": 214
        }
      },
      "source": [
        "#Delete the p1 object:\n",
        "class Person():\n",
        "  def __init__(mysillyobject, name,age):\n",
        "    mysillyobject.name = name\n",
        "    mysillyobject.age = age\n",
        "  def printmsg(abc):\n",
        "    print(\"Hello my name is \" + abc.name);\n",
        "    \n",
        "p1 = Person(\"john\", 67);\n",
        "p1.name = \"asdas\";\n",
        "p1.printmsg();\n",
        "\n",
        "del(p1);\n",
        "p1.printmsg();"
      ],
      "execution_count": 0,
      "outputs": [
        {
          "output_type": "stream",
          "text": [
            "Hello my name is asdas\n"
          ],
          "name": "stdout"
        },
        {
          "output_type": "error",
          "ename": "NameError",
          "evalue": "ignored",
          "traceback": [
            "\u001b[0;31m---------------------------------------------------------------------------\u001b[0m",
            "\u001b[0;31mNameError\u001b[0m                                 Traceback (most recent call last)",
            "\u001b[0;32m<ipython-input-34-b880bb171e11>\u001b[0m in \u001b[0;36m<module>\u001b[0;34m()\u001b[0m\n\u001b[1;32m     11\u001b[0m \u001b[0;34m\u001b[0m\u001b[0m\n\u001b[1;32m     12\u001b[0m \u001b[0;32mdel\u001b[0m\u001b[0;34m(\u001b[0m\u001b[0mp1\u001b[0m\u001b[0;34m)\u001b[0m\u001b[0;34m;\u001b[0m\u001b[0;34m\u001b[0m\u001b[0;34m\u001b[0m\u001b[0m\n\u001b[0;32m---> 13\u001b[0;31m \u001b[0mp1\u001b[0m\u001b[0;34m.\u001b[0m\u001b[0mprintmsg\u001b[0m\u001b[0;34m(\u001b[0m\u001b[0;34m)\u001b[0m\u001b[0;34m;\u001b[0m\u001b[0;34m\u001b[0m\u001b[0;34m\u001b[0m\u001b[0m\n\u001b[0m",
            "\u001b[0;31mNameError\u001b[0m: name 'p1' is not defined"
          ]
        }
      ]
    },
    {
      "cell_type": "markdown",
      "metadata": {
        "colab_type": "text",
        "id": "8mU7kIx5p2zk"
      },
      "source": [
        "# Python Iterators\n",
        "An iterator is an object that contains a countable number of values.\n",
        "An iterator is an object that can be iterated upon, meaning that you can traverse through all the values.\n",
        "Technically, in Python, an iterator is an object which implements the iterator protocol, which consist of the methods __iter__() and __next__().\n",
        "\n",
        "## Iterator vs Iterable\n",
        "Lists, tuples, dictionaries, and sets are all iterable objects. They are iterable containers which you can get an iterator from.\n",
        "\n",
        "All these objects have a __iter__() method which is used to get an iterator:"
      ]
    },
    {
      "cell_type": "code",
      "metadata": {
        "colab_type": "code",
        "id": "qUCfflg6qBBA",
        "outputId": "0820b01d-b53b-4c41-9f6f-081c9cf64301",
        "colab": {
          "base_uri": "https://localhost:8080/",
          "height": 68
        }
      },
      "source": [
        "# Create a tuple with apple, banana and cherry.\n",
        "# Create an iterator object using the iter()\n",
        "\n",
        "# print the iterated values using the next()\n",
        "mytuple = (\"apple\", \"banana\", \"cherry\")\n",
        "myitr = iter(mytuple);\n",
        "\n",
        "print(next(myitr));\n",
        "print(next(myitr));\n",
        "print(next(myitr));"
      ],
      "execution_count": 0,
      "outputs": [
        {
          "output_type": "stream",
          "text": [
            "apple\n",
            "banana\n",
            "cherry\n"
          ],
          "name": "stdout"
        }
      ]
    },
    {
      "cell_type": "code",
      "metadata": {
        "colab_type": "code",
        "id": "78eTrcJdqFkk",
        "outputId": "78479fac-f9d5-46a9-ebba-977d94578d56",
        "colab": {
          "base_uri": "https://localhost:8080/",
          "height": 119
        }
      },
      "source": [
        "# Strings are also iterable objects, containing a sequence of characters:\n",
        "# Create a string and iterate in the same manner\n",
        "mytuple = (\"banana\")\n",
        "myitr = iter(mytuple);\n",
        "\n",
        "\n",
        "print(next(myitr));\n",
        "print(next(myitr));\n",
        "print(next(myitr));\n",
        "print(next(myitr));\n",
        "print(next(myitr));\n",
        "print(next(myitr));\n",
        "\n"
      ],
      "execution_count": 0,
      "outputs": [
        {
          "output_type": "stream",
          "text": [
            "b\n",
            "a\n",
            "n\n",
            "a\n",
            "n\n",
            "a\n"
          ],
          "name": "stdout"
        }
      ]
    },
    {
      "cell_type": "code",
      "metadata": {
        "colab_type": "code",
        "id": "Fl7dXvi0qL4o",
        "outputId": "a9611b4e-7588-4925-eb54-2e693a7d330a",
        "colab": {
          "base_uri": "https://localhost:8080/",
          "height": 121
        }
      },
      "source": [
        "#Iterate the characters of a string:"
      ],
      "execution_count": 0,
      "outputs": [
        {
          "output_type": "stream",
          "text": [
            "b\n",
            "a\n",
            "n\n",
            "a\n",
            "n\n",
            "a\n"
          ],
          "name": "stdout"
        }
      ]
    },
    {
      "cell_type": "markdown",
      "metadata": {
        "colab_type": "text",
        "id": "3Qa9ULKsqQ9a"
      },
      "source": [
        "## Creating an Iterator\n",
        "* To create an object/class as an iterator you have to implement the methods __iter__() and __next__() to your object.\n",
        "\n",
        "* As you have learned in the Python Classes/Objects chapter, all classes have a function called __init__(), which allows you do some initializing when the object is being created.\n",
        "\n",
        "* The __iter__() method acts similar, you can do operations (initializing etc.), but must always return the iterator object itself.\n",
        "\n",
        "* The __next__() method also allows you to do operations, and must return the next item in the sequence."
      ]
    },
    {
      "cell_type": "code",
      "metadata": {
        "colab_type": "code",
        "id": "D2R5_4-Fq0yA",
        "colab": {}
      },
      "source": [
        "# Create an iterator that returns numbers, starting with 1, \n",
        "# and each sequence will increase by one (returning 1,2,3,4,5 etc.):\n"
      ],
      "execution_count": 0,
      "outputs": []
    },
    {
      "cell_type": "markdown",
      "metadata": {
        "colab_type": "text",
        "id": "vrScNQErq4IA"
      },
      "source": [
        "### StopIteration\n",
        "The example above would continue forever if you had enough next() statements, or if it was used in a for loop.\n",
        "\n",
        "To prevent the iteration to go on forever, we can use the StopIteration statement.\n",
        "\n",
        "* In the __next__() method, we can add a terminating condition to raise an error if the iteration is done a specified number of times:"
      ]
    },
    {
      "cell_type": "code",
      "metadata": {
        "colab_type": "code",
        "id": "-wWG-B4crAlz",
        "colab": {}
      },
      "source": [
        "#an example to stop after 20 iterations:\n"
      ],
      "execution_count": 0,
      "outputs": []
    },
    {
      "cell_type": "markdown",
      "metadata": {
        "colab_type": "text",
        "id": "1vmiHPB5KLap"
      },
      "source": [
        "# Python Generators\n",
        "Generators are objects in python which will generate values when we call them at once. Suppose you want to find a sequence of numbers, this is ideally possible if we want to generate a reasonable number of outputs. In that case, we can use *return* which will return all the outputs in one pass. However, when the number of the sequence we want to get is very large such that it will not fit in our memory, we will have to consider an alternative way to generate this sequence. \n"
      ]
    },
    {
      "cell_type": "code",
      "metadata": {
        "colab_type": "code",
        "id": "iANyypyoLpZv",
        "colab": {}
      },
      "source": [
        "def gen_nums():\n",
        "  i = 0\n",
        "  arr = []\n",
        "  while(True):\n",
        "    arr.append(i)\n",
        "    i = i+1\n",
        "    break\n",
        "    ## consider if we want to generate infinite numbers, it is not possible with return\n",
        "  return arr"
      ],
      "execution_count": 0,
      "outputs": []
    },
    {
      "cell_type": "code",
      "metadata": {
        "colab_type": "code",
        "id": "DKjXUYdZMXlk",
        "outputId": "b9c2d695-7c91-49c3-c1de-e52638ee1455",
        "colab": {
          "base_uri": "https://localhost:8080/",
          "height": 34
        }
      },
      "source": [
        "gen_nums()"
      ],
      "execution_count": 0,
      "outputs": [
        {
          "output_type": "execute_result",
          "data": {
            "text/plain": [
              "[0]"
            ]
          },
          "metadata": {
            "tags": []
          },
          "execution_count": 2
        }
      ]
    },
    {
      "cell_type": "markdown",
      "metadata": {
        "colab_type": "text",
        "id": "-8ShhTsRMcFC"
      },
      "source": [
        "### Yield keyword\n",
        "\n",
        "That is where the yeild keyword comes into play. The *yield* keyword returns the value just like how a *return* keyword would do. But instead of a value, we get a generator object which can generate values as long as we have specified in the function."
      ]
    },
    {
      "cell_type": "code",
      "metadata": {
        "colab_type": "code",
        "id": "Up_2NAwYMabI",
        "outputId": "cba5b141-9c92-4599-a967-bd44640464bc",
        "colab": {
          "base_uri": "https://localhost:8080/",
          "height": 34
        }
      },
      "source": [
        "# Define a function which generates infinite values from 1. Use yield keyword to return the values.\n",
        "def gen_num():\n",
        "  i = 0;\n",
        "  while(1):\n",
        "    i = i+1;\n",
        "    yield i\n",
        "num_gen = gen_num();\n",
        "print(type(num_gen))"
      ],
      "execution_count": 0,
      "outputs": [
        {
          "output_type": "stream",
          "text": [
            "<class 'generator'>\n"
          ],
          "name": "stdout"
        }
      ]
    },
    {
      "cell_type": "code",
      "metadata": {
        "colab_type": "code",
        "id": "GFmS8M0KNkmy",
        "outputId": "88da4fc7-b3a6-4123-eb75-78040341c7fb",
        "colab": {
          "base_uri": "https://localhost:8080/",
          "height": 85
        }
      },
      "source": [
        "# Generate the numbers using the next() function.\n",
        "def my_gen():\n",
        "  n=1;\n",
        "  print(\"number printing inside my_gen\");\n",
        "  \n",
        "  yield n;\n",
        "  \n",
        "  n=2;\n",
        "  print(\"number two\");\n",
        "  yield n;\n",
        "  \n",
        "for item in my_gen():\n",
        "  print (item);"
      ],
      "execution_count": 0,
      "outputs": [
        {
          "output_type": "stream",
          "text": [
            "number printing inside my_gen\n",
            "1\n",
            "number two\n",
            "2\n"
          ],
          "name": "stdout"
        }
      ]
    },
    {
      "cell_type": "markdown",
      "metadata": {
        "colab_type": "text",
        "id": "wvKBRAttNtjY"
      },
      "source": [
        "We see that we can generate a generator object.\n",
        "\n",
        "##### Generating values\n",
        "The values of a generator object can be generated by using the *next(generator_obj)* function.\n",
        "This will generate values after applying the update if any, and we can call it till the iteration is complete."
      ]
    },
    {
      "cell_type": "code",
      "metadata": {
        "colab_type": "code",
        "id": "Umz1kSroNmkq",
        "outputId": "503373b0-242f-44f0-9c31-23dcd455bb98",
        "colab": {
          "base_uri": "https://localhost:8080/",
          "height": 191
        }
      },
      "source": [
        "## Generating the first 10 values given by our generator.\n"
      ],
      "execution_count": 0,
      "outputs": [
        {
          "output_type": "stream",
          "text": [
            "1\n",
            "2\n",
            "3\n",
            "4\n",
            "5\n",
            "6\n",
            "7\n",
            "8\n",
            "9\n",
            "10\n"
          ],
          "name": "stdout"
        }
      ]
    },
    {
      "cell_type": "markdown",
      "metadata": {
        "colab_type": "text",
        "id": "zVq04fJwO1vx"
      },
      "source": [
        "### Significance of Generators in python\n",
        "In Data Science, we will always have to deal with datasets of sizes more than what can fit in our computer's memory. So we will not be able to read all of it into memory. And while processing, there will come a need to iterate over the entire dataset. This challenge is solved by the *yield* keyword. Which can read the data according to the limit and then read the next set in the coming iteration. "
      ]
    },
    {
      "cell_type": "markdown",
      "metadata": {
        "colab_type": "text",
        "id": "GlmqOx_rtPfu"
      },
      "source": [
        "# Python Try Except\n",
        "\n",
        "Now, we're going to deal with Exception Handling in Python.\n",
        "\n",
        "* The **try** block lets you test a block of code for errors.\n",
        "\n",
        "* The **except** block lets you handle the error.\n",
        "\n",
        "* The **finally** block lets you execute code, regardless of the result of the try- and except blocks."
      ]
    },
    {
      "cell_type": "markdown",
      "metadata": {
        "colab_type": "text",
        "id": "GtCKq259tq7m"
      },
      "source": [
        "### Exception Handling\n",
        "When an error occurs, or exception as we call it, Python will normally stop and generate an error message.\n",
        "\n",
        "These exceptions can be handled using the try statement:"
      ]
    },
    {
      "cell_type": "code",
      "metadata": {
        "colab_type": "code",
        "id": "CqqXAR88tt0m",
        "outputId": "1be6187a-a56a-4c56-cde9-bacca6c861f6",
        "colab": {
          "base_uri": "https://localhost:8080/",
          "height": 51
        }
      },
      "source": [
        "#The try block will generate an exception, because x is not defined:\n",
        "try:\n",
        "  print(x);\n",
        "  print(x/0);\n",
        "except:\n",
        "  print(\"An error occured\");\n",
        "finally:\n",
        "  print(\"this will surely excute\")\n",
        "\n",
        "#This statement will raise an error, because x is not defined:\n",
        "#print(x)"
      ],
      "execution_count": 0,
      "outputs": [
        {
          "output_type": "stream",
          "text": [
            "An error occured\n",
            "this willsurely excute\n"
          ],
          "name": "stdout"
        }
      ]
    },
    {
      "cell_type": "markdown",
      "metadata": {
        "colab_type": "text",
        "id": "NsgcTLTit-aQ"
      },
      "source": [
        "### Many Exceptions\n",
        "You can define as many exception blocks as you want, e.g. if you want to execute a special block of code for a special kind of error:"
      ]
    },
    {
      "cell_type": "code",
      "metadata": {
        "colab_type": "code",
        "id": "8XmPzHzZuB4o",
        "colab": {}
      },
      "source": [
        "#Print one message if the try block raises a NameError and another for other errors:\n",
        "\n"
      ],
      "execution_count": 0,
      "outputs": []
    },
    {
      "cell_type": "markdown",
      "metadata": {
        "colab_type": "text",
        "id": "D1JWk8L_uE0q"
      },
      "source": [
        "### Else\n",
        "\n",
        "You can use the else keyword to define a block of code to be executed if no errors were raised:"
      ]
    },
    {
      "cell_type": "code",
      "metadata": {
        "colab_type": "code",
        "id": "XGJzhHciuRnR",
        "outputId": "0f610217-068c-4236-d0a5-a0e2b7188ac4",
        "colab": {
          "base_uri": "https://localhost:8080/",
          "height": 52
        }
      },
      "source": [
        "#In this example, the try block does not generate any error:\n",
        "\n"
      ],
      "execution_count": 0,
      "outputs": [
        {
          "output_type": "stream",
          "text": [
            "Hello\n",
            "Nothing went wrong\n"
          ],
          "name": "stdout"
        }
      ]
    },
    {
      "cell_type": "markdown",
      "metadata": {
        "colab_type": "text",
        "id": "m5b1j52xuWjY"
      },
      "source": [
        "### Finally\n",
        "The finally block, if specified, will be executed regardless if the try block raises an error or not.\n",
        "\n"
      ]
    },
    {
      "cell_type": "code",
      "metadata": {
        "colab_type": "code",
        "id": "hmBU4fJsubCD",
        "outputId": "33d692ac-9ecd-41bb-9820-aa1f99f38dcc",
        "colab": {
          "base_uri": "https://localhost:8080/",
          "height": 52
        }
      },
      "source": [
        "# In this example, add the finally block too.\n"
      ],
      "execution_count": 0,
      "outputs": [
        {
          "output_type": "stream",
          "text": [
            "Something went wrong\n",
            "The 'try except' is finished\n"
          ],
          "name": "stdout"
        }
      ]
    },
    {
      "cell_type": "markdown",
      "metadata": {
        "colab_type": "text",
        "id": "r1vR31l3ugMB"
      },
      "source": [
        "This can be useful to close objects and clean up resources:\n",
        "\n"
      ]
    },
    {
      "cell_type": "markdown",
      "metadata": {
        "colab_type": "text",
        "id": "PFdBhRwNLmer"
      },
      "source": [
        "# Python Modules \n",
        "Python **modules** and Python **packages** are the two mechanisms that facilitate modular programming.\n",
        "\n",
        "**Modular** programming refers to the process of breaking a large, unwieldy programming task into separate, smaller, more manageable subtasks or modules. Individual modules can then be cobbled together like building blocks to create a larger application.\n",
        "\n",
        "There are several advantages to modularizing code in a large application:\n",
        "\n",
        "* Simplicity\n",
        "* Maintainability\n",
        "\n",
        "* Reusability\n",
        "\n",
        "\n"
      ]
    },
    {
      "cell_type": "code",
      "metadata": {
        "colab_type": "code",
        "id": "m3HPY6oIMZKj",
        "colab": {}
      },
      "source": [
        "s = \"If Comrade Napoleon says it, it must be right.\"\n",
        "a = [100, 200, 300]\n",
        "\n",
        "def foo(arg):\n",
        "    print(f'arg = {arg}')\n",
        "\n",
        "class Foo:\n",
        "    pass"
      ],
      "execution_count": 0,
      "outputs": []
    },
    {
      "cell_type": "markdown",
      "metadata": {
        "colab_type": "text",
        "id": "0Ez5iCwaMc6d"
      },
      "source": [
        "Several objects are also defined in mod.py:\n",
        "\n",
        "* s (a string)\n",
        "* a (a list)\n",
        "* foo() (a function)\n",
        "* Foo (a class)"
      ]
    },
    {
      "cell_type": "markdown",
      "metadata": {
        "colab_type": "text",
        "id": "XPUoFWtvN2lC"
      },
      "source": [
        "#Python Inheritance\n",
        "In object-oriented programming (OOP), inheritance is a way to reuse code of existing objects. It’s good when you want to establish a subtype from an existing object. Objects are defined by classes, classes can inherit attributes and behavior from pre-existing classes. The resulting classes are known as derived classes or subclasses.\n",
        "\n",
        "A subclass “inherits” all the attributes (methods, etc) of the parent class. We can create new attributes or methods to add to the behavior of the parent We can change (“override”) some or all of the attributes or methods to change the behavior. We can also extend the behavior of the parent by using the original methods and adding a bit more.\n",
        "\n",
        "We indicate that a new class should inherit from an existing class by placing the name of the existing class in the list of base classes. The class(es) named in the list of base classes must be in the current namespace when the class statement is evaluated. For compatibility across Python 2 and 3, any new classes we create wil always inherit from at least object. This basic class sits at the top of the Python data model, and is in the __builtin__ namespace.\n",
        "\n",
        "This is a pseudocode model for the simplest subclass in Python:\n",
        "\n"
      ]
    },
    {
      "cell_type": "code",
      "metadata": {
        "colab_type": "code",
        "id": "adJBE2LwOCwj",
        "colab": {}
      },
      "source": [
        "#class Subclass(Superclass):\n",
        "#    pass"
      ],
      "execution_count": 0,
      "outputs": []
    },
    {
      "cell_type": "markdown",
      "metadata": {
        "colab_type": "text",
        "id": "C-jS_qqPN-kA"
      },
      "source": [
        "### Overriding attributes\n",
        "One of the core purposes of a subclass is to change the behavior of the parent class in some useful way. We call this overriding the inherited behavior. Overriding attributes of a parent class in Python is as simple as creating a new attribute with the same name:\n"
      ]
    },
    {
      "cell_type": "code",
      "metadata": {
        "colab_type": "code",
        "id": "Q8NLyxOyOZAx",
        "outputId": "2443c997-4b42-4ae8-9023-7a7dc698ae7c",
        "colab": {
          "base_uri": "https://localhost:8080/",
          "height": 34
        }
      },
      "source": [
        "#example\n",
        "class Circle(object):\n",
        "    color = \"red\"\n",
        "\n",
        "class NewCircle(Circle):\n",
        "    color = \"blue\"\n",
        "\n",
        "nc = NewCircle\n",
        "print(nc.color)\n",
        "#blue\n",
        "\n",
        "#Any instances of the new class will have the blue color. Instances of the original class will have the red color."
      ],
      "execution_count": 0,
      "outputs": [
        {
          "output_type": "stream",
          "text": [
            "blue\n"
          ],
          "name": "stdout"
        }
      ]
    },
    {
      "cell_type": "markdown",
      "metadata": {
        "colab_type": "text",
        "id": "Qr9WE0CsOjxf"
      },
      "source": [
        "### Overriding methods\n",
        "Overriding methods works in exactly the same way (remember, a method is an attribute in python).\n"
      ]
    },
    {
      "cell_type": "code",
      "metadata": {
        "colab_type": "code",
        "id": "QUgylATEOmLl",
        "outputId": "4c3ad29f-26af-4e97-a470-d7234ab6da5c",
        "colab": {
          "base_uri": "https://localhost:8080/",
          "height": 34
        }
      },
      "source": [
        "class Circle:\n",
        "    def __init__(self,diameter):\n",
        "      self.diameter = diameter\n",
        "      \n",
        "    def grow(self,factor=1):\n",
        "        \"\"\"grows the circle's diameter by factor\"\"\"\n",
        "        self.diameter = self.diameter * factor\n",
        "        return self.diameter\n",
        "\n",
        "temp= Circle(24)\n",
        "print(temp.grow(2))"
      ],
      "execution_count": 0,
      "outputs": [
        {
          "output_type": "stream",
          "text": [
            "48\n"
          ],
          "name": "stdout"
        }
      ]
    },
    {
      "cell_type": "markdown",
      "metadata": {
        "colab_type": "text",
        "id": "0Wb0VDwSO518"
      },
      "source": [
        "Instances of the new circle class will have the new behavior for the grow method. Instances of the existing class will continue to have the old behavior.\n",
        "\n",
        "When overriding behavior for a subclass, remember that in good OO programming a subclass should be substantially similar to its parents. If you have a system which uses the parent class, you should be able to use the subclass in all the same places, and in all the same ways. This is known as the “Liskov Substitution Principle”."
      ]
    },
    {
      "cell_type": "markdown",
      "metadata": {
        "colab_type": "text",
        "id": "svmUis8ZO_Eb"
      },
      "source": [
        "### Extending Methods\n",
        "Wanting or needing to override __init__ is very common. After all, we are trying to modify how the parent class works. However, we often also want to do some or all of the things that the parent class does with __init__. We really want to extend the functionality of the parent class __init__. Think “do everything my parent does, plus this other stuff”.\n"
      ]
    },
    {
      "cell_type": "code",
      "metadata": {
        "colab_type": "code",
        "id": "PBON_dr7PCFA",
        "colab": {}
      },
      "source": [
        "class Circle(object):\n",
        "    color = \"red\"\n",
        "    def __init__(self, diameter):\n",
        "        self.diameter = diameter\n"
      ],
      "execution_count": 0,
      "outputs": []
    },
    {
      "cell_type": "code",
      "metadata": {
        "colab_type": "code",
        "id": "Z5FPntXmPEXU",
        "colab": {}
      },
      "source": [
        "...\n",
        "class CircleR(Circle):\n",
        "    def __init__(self, radius):\n",
        "        diameter = radius*2\n",
        "        Circle.__init__(self, diameter)"
      ],
      "execution_count": 0,
      "outputs": []
    },
    {
      "cell_type": "markdown",
      "metadata": {
        "colab_type": "text",
        "id": "OTJlCgMMPV8h"
      },
      "source": [
        "# Composition\n",
        "Let’s imagine that we have a class that needs to accumulate an arbitrary number of objects. A list can do that, so we should subclass list, right?\n",
        "\n",
        "The thing is, that in addition to being able to accumulate objects, lists support a number of other operations. We can iterate over the objects they contain. We can sort and reverse them.\n",
        "\n",
        "Does our new class need to do all those things? If the answer is no, then our new class might be better served by containing a list, rather than inheriting from it.\n",
        "\n",
        "Composition is another Object Oriented programming approach. We use it when we want to use some aspect of another class without promising all of the features of that other class.\n",
        "\n",
        "Think about our example. Maybe accumulating objects is all we want this new class to do. No other functionality from a list is required. We can build our class to contain a list:\n"
      ]
    },
    {
      "cell_type": "code",
      "metadata": {
        "colab_type": "code",
        "id": "iWgn8ZyqPZmG",
        "colab": {}
      },
      "source": [
        "class Accumulator(object):\n",
        "    def __init__(self):\n",
        "       self._container = []\n",
        "    def accumulate(self, obj):\n",
        "        self._container.append(obj)\n",
        "    def stuff(self):\n",
        "      return self._container[:]\n",
        " #b"
      ],
      "execution_count": 0,
      "outputs": []
    },
    {
      "cell_type": "markdown",
      "metadata": {
        "colab_type": "text",
        "id": "cCImJysVBm3y"
      },
      "source": [
        "# Packages\n",
        "Let’s imagine that we have a class that needs to accumulate an arbitrary number of objects. A list can do that, so we should subclass list, right?\n",
        "\n",
        "The thing is, that in addition to being able to accumulate objects, lists support a number of other operations. We can iterate over the objects they contain. We can sort and reverse them.\n",
        "\n",
        "Does our new class need to do all those things? If the answer is no, then our new class might be better served by containing a list, rather than inheriting from it.\n",
        "\n",
        "Composition is another Object Oriented programming approach. We use it when we want to use some aspect of another class without promising all of the features of that other class.\n",
        "\n",
        "Think about our example. Maybe accumulating objects is all we want this new class to do. No other functionality from a list is required. We can build our class to contain a list:\n"
      ]
    },
    {
      "cell_type": "code",
      "metadata": {
        "colab_type": "code",
        "id": "10nROIBvF1Hy",
        "outputId": "de8bf35d-a1fd-4f28-8e26-b1d65de9ba51",
        "colab": {
          "resources": {
            "http://localhost:8080/nbextensions/google.colab/files.js": {
              "data": "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",
              "headers": [
                [
                  "content-type",
                  "application/javascript"
                ]
              ],
              "ok": true,
              "status": 200,
              "status_text": "OK"
            }
          },
          "base_uri": "https://localhost:8080/",
          "height": 76
        }
      },
      "source": [
        "# uploading files in google colab\n",
        "from google.colab import files\n",
        "uploaded = files.upload()\n"
      ],
      "execution_count": 0,
      "outputs": [
        {
          "output_type": "display_data",
          "data": {
            "text/html": [
              "\n",
              "     <input type=\"file\" id=\"files-7fca498c-bad3-4159-964d-f89a326d9683\" name=\"files[]\" multiple disabled />\n",
              "     <output id=\"result-7fca498c-bad3-4159-964d-f89a326d9683\">\n",
              "      Upload widget is only available when the cell has been executed in the\n",
              "      current browser session. Please rerun this cell to enable.\n",
              "      </output>\n",
              "      <script src=\"/nbextensions/google.colab/files.js\"></script> "
            ],
            "text/plain": [
              "<IPython.core.display.HTML object>"
            ]
          },
          "metadata": {
            "tags": []
          }
        },
        {
          "output_type": "stream",
          "text": [
            "Saving sample.csv to sample.csv\n"
          ],
          "name": "stdout"
        }
      ]
    },
    {
      "cell_type": "code",
      "metadata": {
        "colab_type": "code",
        "id": "K93IWn3UF_h2",
        "outputId": "9162f4ec-6f8e-4210-8ee5-195154eafb25",
        "colab": {
          "base_uri": "https://localhost:8080/",
          "height": 233
        }
      },
      "source": [
        "# importing pandas ppackage and executing a operation\n",
        "import pandas as pd\n",
        "df=pd.read_csv(\"sample.csv\")\n",
        "df.head()"
      ],
      "execution_count": 0,
      "outputs": [
        {
          "output_type": "execute_result",
          "data": {
            "text/html": [
              "<div>\n",
              "<style scoped>\n",
              "    .dataframe tbody tr th:only-of-type {\n",
              "        vertical-align: middle;\n",
              "    }\n",
              "\n",
              "    .dataframe tbody tr th {\n",
              "        vertical-align: top;\n",
              "    }\n",
              "\n",
              "    .dataframe thead th {\n",
              "        text-align: right;\n",
              "    }\n",
              "</style>\n",
              "<table border=\"1\" class=\"dataframe\">\n",
              "  <thead>\n",
              "    <tr style=\"text-align: right;\">\n",
              "      <th></th>\n",
              "      <th>FIRST NAME</th>\n",
              "      <th>LAST NAME</th>\n",
              "      <th>USERNAME</th>\n",
              "      <th>PASSWORD</th>\n",
              "      <th>EMAIL ADDRESS</th>\n",
              "      <th>PHONE NUMBER</th>\n",
              "      <th>PASSPORT</th>\n",
              "      <th>GROUPS</th>\n",
              "      <th>USERCODE</th>\n",
              "      <th>TITLE</th>\n",
              "      <th>ADDRESS 1</th>\n",
              "      <th>ADDRESS 2</th>\n",
              "      <th>CITY</th>\n",
              "      <th>STATE</th>\n",
              "      <th>ZIP</th>\n",
              "    </tr>\n",
              "  </thead>\n",
              "  <tbody>\n",
              "    <tr>\n",
              "      <th>0</th>\n",
              "      <td>Frank</td>\n",
              "      <td>Riley</td>\n",
              "      <td>friley</td>\n",
              "      <td>changeme</td>\n",
              "      <td>friley@kanab.org</td>\n",
              "      <td>123-456-7890</td>\n",
              "      <td>3</td>\n",
              "      <td>1,3</td>\n",
              "      <td>1040</td>\n",
              "      <td>Teacher</td>\n",
              "      <td>328 Innovation</td>\n",
              "      <td>Suite # 200</td>\n",
              "      <td>state college</td>\n",
              "      <td>PA</td>\n",
              "      <td>16803</td>\n",
              "    </tr>\n",
              "    <tr>\n",
              "      <th>1</th>\n",
              "      <td>Steve</td>\n",
              "      <td>Brannigan</td>\n",
              "      <td>sbrannigan</td>\n",
              "      <td>changeme</td>\n",
              "      <td>sbrannigan@kanab.org</td>\n",
              "      <td>123-456-7890</td>\n",
              "      <td>3</td>\n",
              "      <td>1</td>\n",
              "      <td>1041</td>\n",
              "      <td>Teacher</td>\n",
              "      <td>328 Innovation</td>\n",
              "      <td>Suite # 200</td>\n",
              "      <td>state college</td>\n",
              "      <td>PA</td>\n",
              "      <td>16803</td>\n",
              "    </tr>\n",
              "    <tr>\n",
              "      <th>2</th>\n",
              "      <td>Marie</td>\n",
              "      <td>Ambrose</td>\n",
              "      <td>mambrose</td>\n",
              "      <td>changeme</td>\n",
              "      <td>mambrose@kanab.org</td>\n",
              "      <td>123-456-7890</td>\n",
              "      <td>3</td>\n",
              "      <td>1</td>\n",
              "      <td>1042</td>\n",
              "      <td>Teacher</td>\n",
              "      <td>328 Innovation</td>\n",
              "      <td>Suite # 200</td>\n",
              "      <td>state college</td>\n",
              "      <td>PA</td>\n",
              "      <td>16803</td>\n",
              "    </tr>\n",
              "  </tbody>\n",
              "</table>\n",
              "</div>"
            ],
            "text/plain": [
              "  FIRST NAME   LAST NAME   USERNAME  PASSWORD          EMAIL ADDRESS  \\\n",
              "0       Frank      Riley      friley  changeme      friley@kanab.org   \n",
              "1       Steve  Brannigan  sbrannigan  changeme  sbrannigan@kanab.org   \n",
              "2       Marie    Ambrose    mambrose  changeme    mambrose@kanab.org   \n",
              "\n",
              "   PHONE NUMBER  PASSPORT GROUPS  USERCODE    TITLE      ADDRESS 1   \\\n",
              "0  123-456-7890         3    1,3      1040  Teacher  328 Innovation   \n",
              "1  123-456-7890         3      1      1041  Teacher  328 Innovation   \n",
              "2  123-456-7890         3      1      1042  Teacher  328 Innovation   \n",
              "\n",
              "      ADDRESS 2           CITY STATE    ZIP  \n",
              "0  Suite # 200   state college    PA  16803  \n",
              "1  Suite # 200   state college    PA  16803  \n",
              "2  Suite # 200   state college    PA  16803  "
            ]
          },
          "metadata": {
            "tags": []
          },
          "execution_count": 4
        }
      ]
    },
    {
      "cell_type": "markdown",
      "metadata": {
        "colab_type": "text",
        "id": "3z30f7NzCUd8"
      },
      "source": [
        "# File handling\n",
        "\n",
        "Files are very important in any application. In data science especially, there will be needs to process raw text files and do some preprocessing before converting them to csv or other formats. Reading a file is done using the *open(filename, open_flag)* function. Where the *filename* corresponds to the filename itself and the *open_flag* corresponds to the read write permissions. \n",
        "\n",
        "The various file permissions are: \n",
        "- 'r'   : \tOpen a file for reading. (default)\n",
        "- 'w' : \tOpen a file for writing. Creates a new file if it does not exist or truncates the file if it exists.\n",
        "- 'x'  : \tOpen a file for exclusive creation. If the file already exists, the operation fails.\n",
        "- 'a'  : \tOpen for appending at the end of the file without truncating it. Creates a new file if it does not exist.\n",
        "- 't'   : \tOpen in text mode. (default)\n",
        "- 'b'  : \tOpen in binary mode.\n",
        "- '+'  : \tOpen a file for updating (reading and writing)\n",
        "\n",
        "After reading the file, the file needs to be closed in order to avoid errors while accessing by other processors."
      ]
    },
    {
      "cell_type": "code",
      "metadata": {
        "colab_type": "code",
        "id": "LaAj68B1CAJ1",
        "colab": {}
      },
      "source": [
        "# Specify the filename\n",
        "filename = 'sample.csv'"
      ],
      "execution_count": 0,
      "outputs": []
    },
    {
      "cell_type": "markdown",
      "metadata": {
        "colab_type": "text",
        "id": "ZZQzA9oMD81Y"
      },
      "source": [
        "### Reading the entire file"
      ]
    },
    {
      "cell_type": "code",
      "metadata": {
        "colab_type": "code",
        "id": "EwCLmj4KDx3c",
        "colab": {}
      },
      "source": [
        "## use the open file and the 'r' flag to open a file and read the file using the read() function\n"
      ],
      "execution_count": 0,
      "outputs": []
    },
    {
      "cell_type": "markdown",
      "metadata": {
        "colab_type": "text",
        "id": "DBIfDA2UQME1"
      },
      "source": [
        "The *read()* reads the entire file into a string. But instead of that, we can read a file line by line using the *readline()* . "
      ]
    },
    {
      "cell_type": "code",
      "metadata": {
        "colab_type": "code",
        "id": "Oa9NEhSREczu",
        "colab": {}
      },
      "source": [
        "# Read only a line using the readline() function.\n"
      ],
      "execution_count": 0,
      "outputs": []
    },
    {
      "cell_type": "markdown",
      "metadata": {
        "colab_type": "text",
        "id": "sDUc3MvJRZYG"
      },
      "source": [
        "# With keyword\n",
        "\n",
        "The __with__ keyword is used to wrap a block of code or the function with its  _\\_exit__  condition. An _\\_exit__ condition can be the __close()__ like for a file. So the advantage is that you can open a file using the with statement and then write all the code for processing the file under the with block and when the execution exists the with block it will automatically close the file, i.e the file's _\\_exit__ condition. \n",
        "\n",
        "Syntax:\n",
        "\n",
        "```\n",
        "with open(filename, flag) as file:\n",
        "    print(file.readline())\n",
        "```"
      ]
    },
    {
      "cell_type": "code",
      "metadata": {
        "colab_type": "code",
        "id": "-NnznbHKSBv8",
        "colab": {}
      },
      "source": [
        "## specify the open() function after the with statement. and read the file.\n"
      ],
      "execution_count": 0,
      "outputs": []
    }
  ]
}